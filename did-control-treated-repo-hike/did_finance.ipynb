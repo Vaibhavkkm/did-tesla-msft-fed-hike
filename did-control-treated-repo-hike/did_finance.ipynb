{
 "cells": [
  {
   "cell_type": "markdown",
   "id": "5d7648bb",
   "metadata": {},
   "source": [
    "# IMPORT LIBRARIES"
   ]
  },
  {
   "cell_type": "code",
   "execution_count": 1,
   "id": "826758b7",
   "metadata": {},
   "outputs": [],
   "source": [
    "import numpy as np\n",
    "import matplotlib.pyplot as plt\n"
   ]
  },
  {
   "cell_type": "markdown",
   "id": "c1d749c3",
   "metadata": {},
   "source": [
    "# Step 1: Create simple dummy data\n"
   ]
  },
  {
   "cell_type": "code",
   "execution_count": 2,
   "id": "a2299354",
   "metadata": {},
   "outputs": [],
   "source": [
    "np.random.seed(675)  # For reproducibility\n",
    "\n",
    "# 40 months: 20 before, 20 after\n",
    "time = np.arange(40)\n",
    "before_after = [0 if t < 20 else 1 for t in time]  # 0 for before, 1 for after\n",
    "\n",
    "# Two groups: treated (gets repo rate hike), control (no hike)\n",
    "treated_returns = [1.0 + np.random.normal(0, 0.2) for _ in range(20)]  # Before: 1% return\n",
    "treated_returns += [0.5 + np.random.normal(0, 0.2) for _ in range(20)]  # After: 0.5% (hike reduces returns)\n",
    "control_returns = [1.0 + np.random.normal(0, 0.2) for _ in range(40)]  # Control: 1% always"
   ]
  },
  {
   "cell_type": "markdown",
   "id": "699b8fbf",
   "metadata": {},
   "source": [
    "# Step 2: Calculate DiD manually\n"
   ]
  },
  {
   "cell_type": "code",
   "execution_count": 3,
   "id": "6f59da51",
   "metadata": {},
   "outputs": [
    {
     "name": "stdout",
     "output_type": "stream",
     "text": [
      "Causal Effect of Repo Rate Hike: -0.53%\n"
     ]
    }
   ],
   "source": [
    "\n",
    "# Average returns for each group, before and after\n",
    "treated_before = sum(treated_returns[:20]) / 20\n",
    "treated_after = sum(treated_returns[20:]) / 20\n",
    "control_before = sum(control_returns[:20]) / 20\n",
    "control_after = sum(control_returns[20:]) / 20\n",
    "\n",
    "# DiD = (Treated After - Treated Before) - (Control After - Control Before)\n",
    "did_effect = (treated_after - treated_before) - (control_after - control_before)\n",
    "print(f\"Causal Effect of Repo Rate Hike: {did_effect:.2f}%\")\n",
    "\n"
   ]
  },
  {
   "cell_type": "markdown",
   "id": "16588461",
   "metadata": {},
   "source": [
    "# Step 3: Plot 1 - Stock chart over time\n"
   ]
  },
  {
   "cell_type": "code",
   "execution_count": 4,
   "id": "14974636",
   "metadata": {},
   "outputs": [],
   "source": [
    "plt.figure(figsize=(10, 6))\n",
    "plt.plot(time, treated_returns, label='Treated (Repo Hike)', color='blue')\n",
    "plt.plot(time, control_returns, label='Control (No Hike)', color='orange')\n",
    "plt.axvline(x=20, color='gray', linestyle='--', label='Repo Rate Hike')\n",
    "plt.xlabel('Months')\n",
    "plt.ylabel('Stock Returns (%)')\n",
    "plt.title('Stock Returns Over Time: Treated vs Control')\n",
    "plt.legend()\n",
    "plt.grid(True)\n",
    "plt.savefig('stock_chart.png')\n",
    "plt.close()"
   ]
  },
  {
   "cell_type": "markdown",
   "id": "608bd9a9",
   "metadata": {},
   "source": [
    "\n",
    "\n",
    "\n",
    "\n",
    "# Step 4: Plot 2 - Original summary plot\n"
   ]
  },
  {
   "cell_type": "code",
   "execution_count": 5,
   "id": "bf93d913",
   "metadata": {},
   "outputs": [],
   "source": [
    "plt.figure(figsize=(8, 5))\n",
    "plt.plot([0, 1], [treated_before, treated_after], marker='o', label='Treated (Repo Hike)', color='blue')\n",
    "plt.plot([0, 1], [control_before, control_after], marker='o', label='Control (No Hike)', color='orange')\n",
    "plt.xticks([0, 1], ['Before Hike', 'After Hike'])\n",
    "plt.ylabel('Average Stock Returns (%)')\n",
    "plt.title('Effect of Repo Rate Hike on Stock Returns')\n",
    "plt.legend()\n",
    "plt.grid(True)\n",
    "plt.savefig('simple_did_plot.png')\n",
    "plt.close()"
   ]
  },
  {
   "cell_type": "markdown",
   "id": "dd84aa32",
   "metadata": {},
   "source": []
  }
 ],
 "metadata": {
  "kernelspec": {
   "display_name": "base",
   "language": "python",
   "name": "python3"
  },
  "language_info": {
   "codemirror_mode": {
    "name": "ipython",
    "version": 3
   },
   "file_extension": ".py",
   "mimetype": "text/x-python",
   "name": "python",
   "nbconvert_exporter": "python",
   "pygments_lexer": "ipython3",
   "version": "3.11.7"
  }
 },
 "nbformat": 4,
 "nbformat_minor": 5
}
