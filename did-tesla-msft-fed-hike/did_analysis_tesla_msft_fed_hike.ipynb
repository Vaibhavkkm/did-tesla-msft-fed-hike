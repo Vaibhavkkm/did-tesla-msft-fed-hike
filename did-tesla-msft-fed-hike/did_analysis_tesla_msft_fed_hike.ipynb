{
 "cells": [
  {
   "cell_type": "markdown",
   "id": "b8fd5c54",
   "metadata": {},
   "source": [
    "# Step 0: Importing Necessary Libraries, Setting Random Seed and Timestamp for Plot titles"
   ]
  },
  {
   "cell_type": "markdown",
   "id": "e72429af",
   "metadata": {},
   "source": [
    "## Import Necessary Libraries"
   ]
  },
  {
   "cell_type": "code",
   "execution_count": 3,
   "id": "366e3f7b",
   "metadata": {},
   "outputs": [],
   "source": [
    "import numpy as np\n",
    "import pandas as pd\n",
    "import matplotlib.pyplot as plt\n",
    "import statsmodels.formula.api as smf\n",
    "from causalml.inference.meta import BaseTLearner\n",
    "from sklearn.ensemble import RandomForestRegressor\n",
    "import seaborn as sns\n",
    "import yfinance as yf\n"
   ]
  },
  {
   "cell_type": "markdown",
   "id": "7e801925",
   "metadata": {},
   "source": [
    "## Set random seed for reproducibility\n"
   ]
  },
  {
   "cell_type": "code",
   "execution_count": 4,
   "id": "0b38cd37",
   "metadata": {},
   "outputs": [],
   "source": [
    "np.random.seed(123)"
   ]
  },
  {
   "cell_type": "markdown",
   "id": "483e7368",
   "metadata": {},
   "source": [
    "## Timestamp for plot titles and separate print\n"
   ]
  },
  {
   "cell_type": "code",
   "execution_count": 5,
   "id": "6533a3a6",
   "metadata": {},
   "outputs": [
    {
     "name": "stdout",
     "output_type": "stream",
     "text": [
      "Analysis Run At: 03:32 PM CEST, Sunday, May 18, 2025\n"
     ]
    }
   ],
   "source": [
    "timestamp = \"03:32 PM CEST, Sunday, May 18, 2025\" # (For documentation purposes)\n",
    "print(f\"Analysis Run At: {timestamp}\")"
   ]
  },
  {
   "cell_type": "markdown",
   "id": "b607828b",
   "metadata": {},
   "source": [
    "# Step 1: Fetch real-world stock market data\n",
    "## Define companies: Tesla (treated), Microsoft (control)"
   ]
  },
  {
   "cell_type": "code",
   "execution_count": 6,
   "id": "06c71887",
   "metadata": {},
   "outputs": [],
   "source": [
    "# Data from Jan 2022 to May 2025\n",
    "\n",
    "treated_ticker = 'TSLA'  # Tesla\n",
    "control_ticker = 'MSFT'  # Microsoft\n",
    "vix_ticker = '^VIX'      # VIX index (market volatility)\n",
    "tnx_ticker = '^TNX'      # 10-year Treasury yield\n",
    "sp500_ticker = '^GSPC'   # S&P 500 index\n"
   ]
  },
  {
   "cell_type": "markdown",
   "id": "e66e8361",
   "metadata": {},
   "source": [
    "## Fetch data from Jan 2022 to May 2025\n"
   ]
  },
  {
   "cell_type": "code",
   "execution_count": 7,
   "id": "a8721f91",
   "metadata": {},
   "outputs": [
    {
     "name": "stdout",
     "output_type": "stream",
     "text": [
      "YF.download() has changed argument auto_adjust default to True\n"
     ]
    },
    {
     "name": "stderr",
     "output_type": "stream",
     "text": [
      "[*********************100%***********************]  1 of 1 completed\n",
      "[*********************100%***********************]  1 of 1 completed\n",
      "[*********************100%***********************]  1 of 1 completed\n",
      "[*********************100%***********************]  1 of 1 completed\n",
      "[*********************100%***********************]  1 of 1 completed\n"
     ]
    }
   ],
   "source": [
    "\n",
    "start_date = '2022-01-01'\n",
    "end_date = '2025-05-15' \n",
    "treated_data = yf.download(treated_ticker, start=start_date, end=end_date)\n",
    "control_data = yf.download(control_ticker, start=start_date, end=end_date)\n",
    "vix_data = yf.download(vix_ticker, start=start_date, end=end_date)\n",
    "tnx_data = yf.download(tnx_ticker, start=start_date, end=end_date)\n",
    "sp500_data = yf.download(sp500_ticker, start=start_date, end=end_date)\n"
   ]
  },
  {
   "cell_type": "markdown",
   "id": "9c82b991",
   "metadata": {},
   "source": [
    "\n",
    "## Handle MultiIndex columns. (Removed complex indexing)|\n"
   ]
  },
  {
   "cell_type": "code",
   "execution_count": 8,
   "id": "424d40e3",
   "metadata": {},
   "outputs": [],
   "source": [
    "for df in [treated_data, control_data, vix_data, tnx_data, sp500_data]:\n",
    "    if isinstance(df.columns, pd.MultiIndex):\n",
    "        df.columns = df.columns.get_level_values(0)\n"
   ]
  },
  {
   "cell_type": "markdown",
   "id": "b2cbe7e3",
   "metadata": {},
   "source": [
    "## Debug: Printing the columns to confirm structure\n"
   ]
  },
  {
   "cell_type": "code",
   "execution_count": 9,
   "id": "d6b97d04",
   "metadata": {},
   "outputs": [
    {
     "name": "stdout",
     "output_type": "stream",
     "text": [
      "Treated Data Columns (Tesla): Index(['Close', 'High', 'Low', 'Open', 'Volume'], dtype='object', name='Price')\n",
      "Control Data Columns (Microsoft): Index(['Close', 'High', 'Low', 'Open', 'Volume'], dtype='object', name='Price')\n",
      "VIX Data Columns: Index(['Close', 'High', 'Low', 'Open', 'Volume'], dtype='object', name='Price')\n",
      "10-Year Treasury Yield Columns: Index(['Close', 'High', 'Low', 'Open', 'Volume'], dtype='object', name='Price')\n",
      "S&P 500 Columns: Index(['Close', 'High', 'Low', 'Open', 'Volume'], dtype='object', name='Price')\n"
     ]
    }
   ],
   "source": [
    "print(\"Treated Data Columns (Tesla):\", treated_data.columns)\n",
    "print(\"Control Data Columns (Microsoft):\", control_data.columns)\n",
    "print(\"VIX Data Columns:\", vix_data.columns)\n",
    "print(\"10-Year Treasury Yield Columns:\", tnx_data.columns)\n",
    "print(\"S&P 500 Columns:\", sp500_data.columns)"
   ]
  },
  {
   "cell_type": "markdown",
   "id": "df34fe8d",
   "metadata": {},
   "source": [
    "## Check if 'Close' column exists in all DataFrames (Say no to API issues, hahaha)\n"
   ]
  },
  {
   "cell_type": "code",
   "execution_count": 10,
   "id": "274332d6",
   "metadata": {},
   "outputs": [],
   "source": [
    "\n",
    "for df, name in [(treated_data, 'treated_data (Tesla)'), (control_data, 'control_data (Microsoft)'),\n",
    "                 (vix_data, 'VIX'), (tnx_data, '10-Year Treasury'), (sp500_data, 'S&P 500')]:\n",
    "    if 'Close' not in df.columns:\n",
    "        raise KeyError(f\"'Close' column not found in {name}. Available columns: {df.columns}\")"
   ]
  },
  {
   "cell_type": "markdown",
   "id": "af7a6cf8",
   "metadata": {},
   "source": [
    "## Calculate daily returns for Tesla, Microsoft, and S&P 500"
   ]
  },
  {
   "cell_type": "code",
   "execution_count": 13,
   "id": "fa70e67f",
   "metadata": {},
   "outputs": [
    {
     "name": "stdout",
     "output_type": "stream",
     "text": [
      "Treated Data (Tesla) Daily Returns:\n",
      " Date\n",
      "2022-01-03         NaN\n",
      "2022-01-04   -4.183270\n",
      "2022-01-05   -5.347121\n",
      "2022-01-06   -2.152337\n",
      "2022-01-07   -3.544657\n",
      "                ...   \n",
      "2025-05-08    3.113462\n",
      "2025-05-09    4.718770\n",
      "2025-05-12    6.745790\n",
      "2025-05-13    4.928074\n",
      "2025-05-14    4.073992\n",
      "Name: returns, Length: 844, dtype: float64\n"
     ]
    }
   ],
   "source": [
    "treated_data['returns'] = treated_data['Close'].pct_change() * 100 # Daily returns in percentage\n",
    "control_data['returns'] = control_data['Close'].pct_change() * 100\n",
    "sp500_data['returns'] = sp500_data['Close'].pct_change() * 100\n",
    "\n",
    "print(\"Treated Data (Tesla) Daily Returns:\\n\", treated_data['returns'])"
   ]
  },
  {
   "cell_type": "markdown",
   "id": "4bc7df72",
   "metadata": {},
   "source": [
    "## Resample to monthly data (using last day of each month)\n"
   ]
  },
  {
   "cell_type": "code",
   "execution_count": 15,
   "id": "b1dcf80d",
   "metadata": {},
   "outputs": [],
   "source": [
    "treated_data_monthly = treated_data.resample('M').last()\n",
    "control_data_monthly = control_data.resample('M').last()\n",
    "vix_data_monthly = vix_data.resample('M').last()\n",
    "tnx_data_monthly = tnx_data.resample('M').last()\n",
    "sp500_data_monthly = sp500_data.resample('M').last()"
   ]
  },
  {
   "cell_type": "markdown",
   "id": "23920ace",
   "metadata": {},
   "source": [
    "## Number of months\n"
   ]
  },
  {
   "cell_type": "code",
   "execution_count": 24,
   "id": "b4eb9e3e",
   "metadata": {},
   "outputs": [
    {
     "name": "stdout",
     "output_type": "stream",
     "text": [
      "Number of months in the dataset: 41\n"
     ]
    }
   ],
   "source": [
    "n_months = len(treated_data_monthly)\n",
    "print(f\"Number of months in the dataset: {n_months}\")"
   ]
  },
  {
   "cell_type": "markdown",
   "id": "52753fa7",
   "metadata": {},
   "source": [
    "## Define treatment period: Real Fed rate hike on July 26, 2023\n"
   ]
  },
  {
   "cell_type": "code",
   "execution_count": 25,
   "id": "3fee6536",
   "metadata": {},
   "outputs": [],
   "source": [
    "treatment_date = pd.to_datetime('2023-07-26')\n",
    "time = np.arange(n_months)"
   ]
  },
  {
   "cell_type": "markdown",
   "id": "bc224472",
   "metadata": {},
   "source": [
    "## Find the index of the nearest date to treatment_date\n"
   ]
  },
  {
   "cell_type": "code",
   "execution_count": 26,
   "id": "b64f3f29",
   "metadata": {},
   "outputs": [],
   "source": [
    "date_diffs = np.abs(treated_data_monthly.index - treatment_date)\n",
    "nearest_idx = date_diffs.argmin()"
   ]
  },
  {
   "cell_type": "markdown",
   "id": "413d6001",
   "metadata": {},
   "source": [
    "## Create before_after and treated arrays\n"
   ]
  },
  {
   "cell_type": "code",
   "execution_count": 28,
   "id": "f648dd01",
   "metadata": {},
   "outputs": [],
   "source": [
    "before_after = [0 if t < nearest_idx else 1 for t in time]\n",
    "treated = [1 if t >= nearest_idx else 0 for t in time]\n"
   ]
  },
  {
   "cell_type": "markdown",
   "id": "abc79613",
   "metadata": {},
   "source": [
    "## Fetch P/E ratio (approximate using yfinance info)\n"
   ]
  },
  {
   "cell_type": "code",
   "execution_count": 29,
   "id": "7313cbb3",
   "metadata": {},
   "outputs": [
    {
     "name": "stdout",
     "output_type": "stream",
     "text": [
      "Tesla PE Ratio: 195.48\n",
      "Microsoft PE Ratio: 35.433975\n"
     ]
    }
   ],
   "source": [
    "treated_info = yf.Ticker(treated_ticker).info\n",
    "control_info = yf.Ticker(control_ticker).info\n",
    "treated_pe = treated_info.get('trailingPE', 50)  # Fallback to 50 for Tesla\n",
    "control_pe = control_info.get('trailingPE', 30)  # Fallback to 30 for Microsoft\n",
    "print(f\"Tesla PE Ratio: {treated_pe}\")\n",
    "print(f\"Microsoft PE Ratio: {control_pe}\")"
   ]
  },
  {
   "cell_type": "markdown",
   "id": "9f546fdd",
   "metadata": {},
   "source": [
    "## Simulate P/E ratio variation over time (based on historical range)\n"
   ]
  },
  {
   "cell_type": "code",
   "execution_count": 30,
   "id": "b6d3e9fa",
   "metadata": {},
   "outputs": [],
   "source": [
    "pe_ratio_treated = np.random.normal(treated_pe, 10, n_months)  # Tesla: Higher volatility\n",
    "pe_ratio_control = np.random.normal(control_pe, 5, n_months)   # Microsoft: More stable\n",
    "# print(f\"PE Ratio for Tesla: {pe_ratio_treated}\")\n",
    "# print(f\"PE Ratio for Microsoft: {pe_ratio_control}\")"
   ]
  },
  {
   "cell_type": "markdown",
   "id": "dd008a39",
   "metadata": {},
   "source": [
    "## Simulate EBITDA (approximate realistic values for Tesla and Microsoft)\n"
   ]
  },
  {
   "cell_type": "code",
   "execution_count": 31,
   "id": "80e61d19",
   "metadata": {},
   "outputs": [
    {
     "name": "stdout",
     "output_type": "stream",
     "text": [
      "Tesla EBITDA: 1.4394364153969263\n",
      "Microsoft EBITDA: 9.627420545855545\n"
     ]
    }
   ],
   "source": [
    "ebitda_treated = np.random.normal(1.5, 0.5, n_months)  # Tesla: ~$1.5B/month\n",
    "ebitda_control = np.random.normal(10, 2, n_months)     # Microsoft: ~$10B/month\n",
    "print(f\"Tesla EBITDA: {ebitda_treated.mean()}\")\n",
    "print(f\"Microsoft EBITDA: {ebitda_control.mean()}\")"
   ]
  },
  {
   "cell_type": "markdown",
   "id": "c9bc68b2",
   "metadata": {},
   "source": [
    "## Create DataFrame with additional confounders\n"
   ]
  },
  {
   "cell_type": "code",
   "execution_count": 32,
   "id": "83bfe202",
   "metadata": {},
   "outputs": [],
   "source": [
    "data = pd.DataFrame({\n",
    "    'time': np.concatenate([time, time]),\n",
    "    'treated': np.concatenate([treated, [0] * n_months]),  # Control has treated=0\n",
    "    'before_after': np.concatenate([before_after, before_after]),\n",
    "    'returns': np.concatenate([treated_data_monthly['returns'].values, control_data_monthly['returns'].values]),\n",
    "    'group': ['treated'] * n_months + ['control'] * n_months,\n",
    "    'pe_ratio': np.concatenate([pe_ratio_treated, pe_ratio_control]),\n",
    "    'ebitda': np.concatenate([ebitda_treated, ebitda_control]),\n",
    "    'vix': np.concatenate([vix_data_monthly['Close'].values, vix_data_monthly['Close'].values]),\n",
    "    'treasury_yield': np.concatenate([tnx_data_monthly['Close'].values, tnx_data_monthly['Close'].values]),\n",
    "    'sp500_returns': np.concatenate([sp500_data_monthly['returns'].values, sp500_data_monthly['returns'].values])\n",
    "})"
   ]
  },
  {
   "cell_type": "markdown",
   "id": "9e80907c",
   "metadata": {},
   "source": [
    "# Step 2: Regression-based DiD with confounders and clustered standard errors\n"
   ]
  },
  {
   "cell_type": "code",
   "execution_count": 33,
   "id": "af3fb8fa",
   "metadata": {},
   "outputs": [
    {
     "name": "stdout",
     "output_type": "stream",
     "text": [
      "DiD Causal Effect: -0.76% (SE: 0.423, p-value: 0.072)\n"
     ]
    }
   ],
   "source": [
    "data['treated_x_after'] = data['treated'] * data['before_after']\n",
    "model = smf.ols(\n",
    "    'returns ~ treated + before_after + treated_x_after + pe_ratio + ebitda + vix + treasury_yield + sp500_returns',\n",
    "    data=data\n",
    ").fit(cov_type='cluster', cov_kwds={'groups': data['time']})  # Clustered standard errors by time\n",
    "did_effect = model.params['treated_x_after']\n",
    "did_se = model.bse['treated_x_after']\n",
    "print(f\"DiD Causal Effect: {did_effect:.2f}% (SE: {did_se:.3f}, p-value: {model.pvalues['treated_x_after']:.3f})\")"
   ]
  },
  {
   "cell_type": "markdown",
   "id": "b66658d1",
   "metadata": {},
   "source": [
    "# Step 3: CausalML T-Learner for heterogeneous treatment effects\n"
   ]
  },
  {
   "cell_type": "code",
   "execution_count": 34,
   "id": "ee320eec",
   "metadata": {},
   "outputs": [],
   "source": [
    "X = data[['pe_ratio', 'ebitda', 'vix', 'treasury_yield', 'sp500_returns', 'before_after']]\n",
    "treatment = data['treated']\n",
    "y = data['returns']\n",
    "t_learner = BaseTLearner(learner=RandomForestRegressor(n_estimators=100, random_state=123))\n",
    "t_learner.fit(X, treatment, y)\n",
    "cate = t_learner.predict(X)\n",
    "data['cate'] = cate"
   ]
  },
  {
   "cell_type": "markdown",
   "id": "e133f089",
   "metadata": {},
   "source": [
    "## Replace inf values with NaN to fix seaborn warning\n"
   ]
  },
  {
   "cell_type": "code",
   "execution_count": 35,
   "id": "a64587fd",
   "metadata": {},
   "outputs": [],
   "source": [
    "data.replace([np.inf, -np.inf], np.nan, inplace=True)"
   ]
  },
  {
   "cell_type": "markdown",
   "id": "26d4f7d3",
   "metadata": {},
   "source": [
    "# Step 4: Plot 1 - Stock returns over time\n"
   ]
  },
  {
   "cell_type": "code",
   "execution_count": 36,
   "id": "b065c476",
   "metadata": {},
   "outputs": [
    {
     "name": "stderr",
     "output_type": "stream",
     "text": [
      "/opt/anaconda3/lib/python3.11/site-packages/seaborn/_oldcore.py:1119: FutureWarning: use_inf_as_na option is deprecated and will be removed in a future version. Convert inf values to NaN before operating instead.\n",
      "  with pd.option_context('mode.use_inf_as_na', True):\n",
      "/opt/anaconda3/lib/python3.11/site-packages/seaborn/_oldcore.py:1119: FutureWarning: use_inf_as_na option is deprecated and will be removed in a future version. Convert inf values to NaN before operating instead.\n",
      "  with pd.option_context('mode.use_inf_as_na', True):\n"
     ]
    }
   ],
   "source": [
    "plt.figure(figsize=(12, 6))\n",
    "sns.lineplot(x='time', y='returns', hue='group', style='group', data=data)\n",
    "plt.axvline(x=nearest_idx, color='gray', linestyle='--', label='Fed Rate Hike (Jul 2023)')\n",
    "plt.xlabel('Months')\n",
    "plt.ylabel('Stock Returns (%)')\n",
    "plt.title(f'Stock Returns: Treated (TSLA) vs Control (MSFT) ({timestamp})')\n",
    "plt.legend()\n",
    "plt.grid(True)\n",
    "plt.tight_layout(pad=2.0)\n",
    "plt.savefig('stock_chart_advanced.png')\n",
    "plt.close()\n"
   ]
  },
  {
   "cell_type": "markdown",
   "id": "de44102d",
   "metadata": {},
   "source": [
    "# Step 5: Plot 2 - Parallel trends assumption\n"
   ]
  },
  {
   "cell_type": "code",
   "execution_count": 37,
   "id": "f823fed2",
   "metadata": {},
   "outputs": [
    {
     "name": "stderr",
     "output_type": "stream",
     "text": [
      "/opt/anaconda3/lib/python3.11/site-packages/seaborn/_oldcore.py:1119: FutureWarning: use_inf_as_na option is deprecated and will be removed in a future version. Convert inf values to NaN before operating instead.\n",
      "  with pd.option_context('mode.use_inf_as_na', True):\n",
      "/opt/anaconda3/lib/python3.11/site-packages/seaborn/_oldcore.py:1119: FutureWarning: use_inf_as_na option is deprecated and will be removed in a future version. Convert inf values to NaN before operating instead.\n",
      "  with pd.option_context('mode.use_inf_as_na', True):\n"
     ]
    }
   ],
   "source": [
    "plt.figure(figsize=(12, 6))\n",
    "sns.lineplot(x='time', y='returns', hue='group', style='group', data=data[data['time'] < nearest_idx])\n",
    "plt.xlabel('Months (Pre-Treatment)')\n",
    "plt.ylabel('Stock Returns (%)')\n",
    "plt.title(f'Parallel Trends Check (Pre-Treatment) ({timestamp})')\n",
    "plt.legend()\n",
    "plt.grid(True)\n",
    "plt.tight_layout(pad=2.0)\n",
    "plt.savefig('parallel_trends.png')\n",
    "plt.close()"
   ]
  },
  {
   "cell_type": "markdown",
   "id": "fc9a06cf",
   "metadata": {},
   "source": [
    "# Step 6: Plot 3 - DiD summary with confidence intervals\n"
   ]
  },
  {
   "cell_type": "code",
   "execution_count": 38,
   "id": "950c1305",
   "metadata": {},
   "outputs": [
    {
     "name": "stderr",
     "output_type": "stream",
     "text": [
      "/opt/anaconda3/lib/python3.11/site-packages/seaborn/_oldcore.py:1119: FutureWarning: use_inf_as_na option is deprecated and will be removed in a future version. Convert inf values to NaN before operating instead.\n",
      "  with pd.option_context('mode.use_inf_as_na', True):\n",
      "/opt/anaconda3/lib/python3.11/site-packages/seaborn/_oldcore.py:1119: FutureWarning: use_inf_as_na option is deprecated and will be removed in a future version. Convert inf values to NaN before operating instead.\n",
      "  with pd.option_context('mode.use_inf_as_na', True):\n"
     ]
    }
   ],
   "source": [
    "summary = data.groupby(['group', 'before_after'])['returns'].mean().reset_index()\n",
    "summary['before_after'] = summary['before_after'].map({0: 'Before', 1: 'After'})\n",
    "plt.figure(figsize=(10, 6))\n",
    "sns.lineplot(x='before_after', y='returns', hue='group', marker='o', data=summary)\n",
    "plt.errorbar(\n",
    "    x=[1], y=[did_effect + summary[(summary['group'] == 'control') & (summary['before_after'] == 'After')]['returns'].iloc[0]],\n",
    "    yerr=1.96 * did_se, fmt='none', c='blue', capsize=5\n",
    ")\n",
    "plt.ylabel('Average Stock Returns (%)')\n",
    "plt.title(f'DiD Effect of Fed Rate Hike (Jul 2023) ({timestamp})')\n",
    "plt.grid(True)\n",
    "plt.tight_layout(pad=2.0)\n",
    "plt.savefig('did_plot_advanced.png')\n",
    "plt.close()"
   ]
  },
  {
   "cell_type": "markdown",
   "id": "00ad7835",
   "metadata": {},
   "source": [
    "# Step 7: Plot 4 - Treatment effect heterogeneity with trend line and improved scaling\n"
   ]
  },
  {
   "cell_type": "code",
   "execution_count": 39,
   "id": "efdd4459",
   "metadata": {},
   "outputs": [],
   "source": [
    "plt.figure(figsize=(12, 6))\n",
    "sns.scatterplot(\n",
    "    x='pe_ratio', y='cate', hue='vix', size='treasury_yield', \n",
    "    sizes=(50, 500), palette='coolwarm',\n",
    "    data=data[data['treated'] == 1]\n",
    ")\n",
    "sns.regplot(\n",
    "    x='pe_ratio', y='cate', data=data[data['treated'] == 1], \n",
    "    scatter=False, color='black', lowess=True\n",
    ")\n",
    "plt.xlabel('P/E Ratio')\n",
    "plt.ylabel('Estimated Treatment Effect (%)')\n",
    "plt.title(f'Treatment Effect Heterogeneity by Confounders ({timestamp})')\n",
    "plt.grid(True)\n",
    "plt.tight_layout(pad=2.0)\n",
    "plt.savefig('cate_heterogeneity.png')\n",
    "plt.close()"
   ]
  }
 ],
 "metadata": {
  "kernelspec": {
   "display_name": "base",
   "language": "python",
   "name": "python3"
  },
  "language_info": {
   "codemirror_mode": {
    "name": "ipython",
    "version": 3
   },
   "file_extension": ".py",
   "mimetype": "text/x-python",
   "name": "python",
   "nbconvert_exporter": "python",
   "pygments_lexer": "ipython3",
   "version": "3.11.7"
  }
 },
 "nbformat": 4,
 "nbformat_minor": 5
}
